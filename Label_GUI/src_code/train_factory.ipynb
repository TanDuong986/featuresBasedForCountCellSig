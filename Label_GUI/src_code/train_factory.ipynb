{
 "cells": [
  {
   "cell_type": "code",
   "execution_count": 3,
   "metadata": {},
   "outputs": [
    {
     "data": {
      "text/plain": [
       "'c:\\\\Users\\\\Tan Duong\\\\OneDrive - vnu.edu.vn\\\\UET\\\\MEMS\\\\CountCell\\\\featuresBasedForCountCellSig'"
      ]
     },
     "execution_count": 3,
     "metadata": {},
     "output_type": "execute_result"
    }
   ],
   "source": [
    "import pandas as pd\n",
    "from sklearn.ensemble import IsolationForest, RandomForestClassifier\n",
    "from sklearn.preprocessing import StandardScaler\n",
    "from sklearn.model_selection import cross_val_score, train_test_split\n",
    "from sklearn.pipeline import Pipeline\n",
    "from sklearn.compose import ColumnTransformer\n",
    "from sklearn.metrics import make_scorer, accuracy_score\n",
    "\n",
    "import os\n",
    "\n",
    "here = os.getcwd()\n",
    "main = here.split(\"\\\\\")\n",
    "home = \"\\\\\".join(main[:-2])\n",
    "home"
   ]
  },
  {
   "cell_type": "code",
   "execution_count": 5,
   "metadata": {},
   "outputs": [],
   "source": [
    "# Load the dataset\n",
    "data_positive = pd.read_csv(os.path.join(home,'truePositive.csv'))\n",
    "data_negative = pd.read_csv(os.path.join(home,'falsePositive.csv'))\n",
    "\n",
    "X = pd.concat([data_positive,data_negative])\n",
    "y = [1]*len(data_positive) + [0] * len(data_negative)"
   ]
  },
  {
   "cell_type": "code",
   "execution_count": null,
   "metadata": {},
   "outputs": [],
   "source": [
    "# Step 1: Detect and Remove Outliers using IsolationForest\n",
    "iso = IsolationForest(contamination=0.1, random_state=42)\n",
    "yhat = iso.fit_predict(X)\n",
    "mask = yhat != -1\n",
    "X, y = X[mask], y[mask]\n",
    "\n",
    "# Step 2: Define the preprocessing steps\n",
    "preprocessor = ColumnTransformer(\n",
    "    transformers=[\n",
    "        ('num', StandardScaler(), X.columns)\n",
    "    ])\n",
    "\n",
    "# Step 3: Define the classifier\n",
    "classifier = RandomForestClassifier(random_state=42)\n",
    "\n",
    "# Step 4: Create the pipeline\n",
    "pipeline = Pipeline(steps=[\n",
    "    ('preprocessor', preprocessor),\n",
    "    ('classifier', classifier)\n",
    "])\n",
    "\n",
    "# Step 5: Define the scoring metric\n",
    "scoring = make_scorer(accuracy_score)\n",
    "\n",
    "# Step 6: Apply cross-validation\n",
    "scores = cross_val_score(pipeline, X, y, cv=5, scoring=scoring)\n",
    "\n",
    "# Print the cross-validation scores\n",
    "print(f\"Cross-validation scores: {scores}\")\n",
    "print(f\"Mean cross-validation score: {scores.mean()}\")\n",
    "print(f\"Standard deviation of cross-validation score: {scores.std()}\")\n"
   ]
  }
 ],
 "metadata": {
  "kernelspec": {
   "display_name": "Python 3",
   "language": "python",
   "name": "python3"
  },
  "language_info": {
   "codemirror_mode": {
    "name": "ipython",
    "version": 3
   },
   "file_extension": ".py",
   "mimetype": "text/x-python",
   "name": "python",
   "nbconvert_exporter": "python",
   "pygments_lexer": "ipython3",
   "version": "3.9.5"
  }
 },
 "nbformat": 4,
 "nbformat_minor": 2
}
